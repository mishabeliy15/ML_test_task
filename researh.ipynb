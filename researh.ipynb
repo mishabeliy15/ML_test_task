{
 "cells": [
  {
   "cell_type": "code",
   "execution_count": 108,
   "metadata": {},
   "outputs": [],
   "source": [
    "import pandas as pd\n",
    "import numpy as np\n",
    "import seaborn as sns\n",
    "import matplotlib.pyplot as plt\n",
    "from sklearn.metrics import confusion_matrix\n",
    "%matplotlib inline"
   ]
  },
  {
   "cell_type": "code",
   "execution_count": 109,
   "metadata": {},
   "outputs": [],
   "source": [
    "df = pd.read_csv('output_w_coop.csv')"
   ]
  },
  {
   "cell_type": "code",
   "execution_count": 110,
   "metadata": {},
   "outputs": [
    {
     "data": {
      "text/html": [
       "<div>\n",
       "<style scoped>\n",
       "    .dataframe tbody tr th:only-of-type {\n",
       "        vertical-align: middle;\n",
       "    }\n",
       "\n",
       "    .dataframe tbody tr th {\n",
       "        vertical-align: top;\n",
       "    }\n",
       "\n",
       "    .dataframe thead th {\n",
       "        text-align: right;\n",
       "    }\n",
       "</style>\n",
       "<table border=\"1\" class=\"dataframe\">\n",
       "  <thead>\n",
       "    <tr style=\"text-align: right;\">\n",
       "      <th></th>\n",
       "      <th>registrationid</th>\n",
       "      <th>churned</th>\n",
       "      <th>score</th>\n",
       "      <th>energy_efficiency</th>\n",
       "      <th>water_efficiency</th>\n",
       "      <th>number_of_311_complains_past_year</th>\n",
       "      <th>number_of_311_complains_2_years_prior</th>\n",
       "      <th>number_of_ecb_violations_last_year</th>\n",
       "      <th>number_of_ecb_violations_2_years_prior</th>\n",
       "      <th>hmcv_violations_past_year_class_a</th>\n",
       "      <th>...</th>\n",
       "      <th>percent_indiv_portfolio</th>\n",
       "      <th>percent_condominium_portfolio</th>\n",
       "      <th>percent_joint_portfolio</th>\n",
       "      <th>percent_lp_portfolio</th>\n",
       "      <th>percent_hdfc_portfolio</th>\n",
       "      <th>percent_registered</th>\n",
       "      <th>average_energy</th>\n",
       "      <th>average_water</th>\n",
       "      <th>management_ranking</th>\n",
       "      <th>corporationname</th>\n",
       "    </tr>\n",
       "  </thead>\n",
       "  <tbody>\n",
       "    <tr>\n",
       "      <th>0</th>\n",
       "      <td>10309</td>\n",
       "      <td>0</td>\n",
       "      <td>402.64</td>\n",
       "      <td>263.65</td>\n",
       "      <td>134.99</td>\n",
       "      <td>1</td>\n",
       "      <td>2</td>\n",
       "      <td>0</td>\n",
       "      <td>0</td>\n",
       "      <td>0</td>\n",
       "      <td>...</td>\n",
       "      <td>0.29</td>\n",
       "      <td>NaN</td>\n",
       "      <td>NaN</td>\n",
       "      <td>NaN</td>\n",
       "      <td>NaN</td>\n",
       "      <td>0.39</td>\n",
       "      <td>263.65</td>\n",
       "      <td>134.99</td>\n",
       "      <td>401.833548</td>\n",
       "      <td>COLBY PROPERTY MANAGEMENT</td>\n",
       "    </tr>\n",
       "    <tr>\n",
       "      <th>1</th>\n",
       "      <td>10310</td>\n",
       "      <td>0</td>\n",
       "      <td>398.64</td>\n",
       "      <td>263.65</td>\n",
       "      <td>134.99</td>\n",
       "      <td>0</td>\n",
       "      <td>0</td>\n",
       "      <td>0</td>\n",
       "      <td>0</td>\n",
       "      <td>0</td>\n",
       "      <td>...</td>\n",
       "      <td>0.29</td>\n",
       "      <td>NaN</td>\n",
       "      <td>NaN</td>\n",
       "      <td>NaN</td>\n",
       "      <td>NaN</td>\n",
       "      <td>0.39</td>\n",
       "      <td>263.65</td>\n",
       "      <td>134.99</td>\n",
       "      <td>401.833548</td>\n",
       "      <td>COLBY PROPERTY MANAGEMENT</td>\n",
       "    </tr>\n",
       "    <tr>\n",
       "      <th>2</th>\n",
       "      <td>10311</td>\n",
       "      <td>0</td>\n",
       "      <td>398.64</td>\n",
       "      <td>263.65</td>\n",
       "      <td>134.99</td>\n",
       "      <td>0</td>\n",
       "      <td>0</td>\n",
       "      <td>0</td>\n",
       "      <td>0</td>\n",
       "      <td>0</td>\n",
       "      <td>...</td>\n",
       "      <td>0.29</td>\n",
       "      <td>NaN</td>\n",
       "      <td>NaN</td>\n",
       "      <td>NaN</td>\n",
       "      <td>NaN</td>\n",
       "      <td>0.39</td>\n",
       "      <td>263.65</td>\n",
       "      <td>134.99</td>\n",
       "      <td>401.833548</td>\n",
       "      <td>COLBY PROPERTY MANAGEMENT</td>\n",
       "    </tr>\n",
       "    <tr>\n",
       "      <th>3</th>\n",
       "      <td>10312</td>\n",
       "      <td>0</td>\n",
       "      <td>398.64</td>\n",
       "      <td>263.65</td>\n",
       "      <td>134.99</td>\n",
       "      <td>0</td>\n",
       "      <td>0</td>\n",
       "      <td>0</td>\n",
       "      <td>0</td>\n",
       "      <td>0</td>\n",
       "      <td>...</td>\n",
       "      <td>0.29</td>\n",
       "      <td>NaN</td>\n",
       "      <td>NaN</td>\n",
       "      <td>NaN</td>\n",
       "      <td>NaN</td>\n",
       "      <td>0.39</td>\n",
       "      <td>263.65</td>\n",
       "      <td>134.99</td>\n",
       "      <td>401.833548</td>\n",
       "      <td>COLBY PROPERTY MANAGEMENT</td>\n",
       "    </tr>\n",
       "    <tr>\n",
       "      <th>4</th>\n",
       "      <td>10313</td>\n",
       "      <td>0</td>\n",
       "      <td>403.64</td>\n",
       "      <td>263.65</td>\n",
       "      <td>134.99</td>\n",
       "      <td>1</td>\n",
       "      <td>3</td>\n",
       "      <td>0</td>\n",
       "      <td>0</td>\n",
       "      <td>0</td>\n",
       "      <td>...</td>\n",
       "      <td>0.29</td>\n",
       "      <td>NaN</td>\n",
       "      <td>NaN</td>\n",
       "      <td>NaN</td>\n",
       "      <td>NaN</td>\n",
       "      <td>0.39</td>\n",
       "      <td>263.65</td>\n",
       "      <td>134.99</td>\n",
       "      <td>401.833548</td>\n",
       "      <td>COLBY PROPERTY MANAGEMENT</td>\n",
       "    </tr>\n",
       "  </tbody>\n",
       "</table>\n",
       "<p>5 rows × 58 columns</p>\n",
       "</div>"
      ],
      "text/plain": [
       "   registrationid  churned   score  energy_efficiency  water_efficiency  \\\n",
       "0           10309        0  402.64             263.65            134.99   \n",
       "1           10310        0  398.64             263.65            134.99   \n",
       "2           10311        0  398.64             263.65            134.99   \n",
       "3           10312        0  398.64             263.65            134.99   \n",
       "4           10313        0  403.64             263.65            134.99   \n",
       "\n",
       "   number_of_311_complains_past_year  number_of_311_complains_2_years_prior  \\\n",
       "0                                  1                                      2   \n",
       "1                                  0                                      0   \n",
       "2                                  0                                      0   \n",
       "3                                  0                                      0   \n",
       "4                                  1                                      3   \n",
       "\n",
       "   number_of_ecb_violations_last_year  number_of_ecb_violations_2_years_prior  \\\n",
       "0                                   0                                       0   \n",
       "1                                   0                                       0   \n",
       "2                                   0                                       0   \n",
       "3                                   0                                       0   \n",
       "4                                   0                                       0   \n",
       "\n",
       "   hmcv_violations_past_year_class_a  ...  percent_indiv_portfolio  \\\n",
       "0                                  0  ...                     0.29   \n",
       "1                                  0  ...                     0.29   \n",
       "2                                  0  ...                     0.29   \n",
       "3                                  0  ...                     0.29   \n",
       "4                                  0  ...                     0.29   \n",
       "\n",
       "   percent_condominium_portfolio  percent_joint_portfolio  \\\n",
       "0                            NaN                      NaN   \n",
       "1                            NaN                      NaN   \n",
       "2                            NaN                      NaN   \n",
       "3                            NaN                      NaN   \n",
       "4                            NaN                      NaN   \n",
       "\n",
       "   percent_lp_portfolio  percent_hdfc_portfolio  percent_registered  \\\n",
       "0                   NaN                     NaN                0.39   \n",
       "1                   NaN                     NaN                0.39   \n",
       "2                   NaN                     NaN                0.39   \n",
       "3                   NaN                     NaN                0.39   \n",
       "4                   NaN                     NaN                0.39   \n",
       "\n",
       "   average_energy  average_water  management_ranking  \\\n",
       "0          263.65         134.99          401.833548   \n",
       "1          263.65         134.99          401.833548   \n",
       "2          263.65         134.99          401.833548   \n",
       "3          263.65         134.99          401.833548   \n",
       "4          263.65         134.99          401.833548   \n",
       "\n",
       "             corporationname  \n",
       "0  COLBY PROPERTY MANAGEMENT  \n",
       "1  COLBY PROPERTY MANAGEMENT  \n",
       "2  COLBY PROPERTY MANAGEMENT  \n",
       "3  COLBY PROPERTY MANAGEMENT  \n",
       "4  COLBY PROPERTY MANAGEMENT  \n",
       "\n",
       "[5 rows x 58 columns]"
      ]
     },
     "execution_count": 110,
     "metadata": {},
     "output_type": "execute_result"
    }
   ],
   "source": [
    "df.head()"
   ]
  },
  {
   "cell_type": "code",
   "execution_count": 111,
   "metadata": {},
   "outputs": [
    {
     "data": {
      "text/plain": [
       "(10417, 58)"
      ]
     },
     "execution_count": 111,
     "metadata": {},
     "output_type": "execute_result"
    }
   ],
   "source": [
    "df.shape"
   ]
  },
  {
   "cell_type": "code",
   "execution_count": 112,
   "metadata": {},
   "outputs": [
    {
     "data": {
      "text/html": [
       "<div>\n",
       "<style scoped>\n",
       "    .dataframe tbody tr th:only-of-type {\n",
       "        vertical-align: middle;\n",
       "    }\n",
       "\n",
       "    .dataframe tbody tr th {\n",
       "        vertical-align: top;\n",
       "    }\n",
       "\n",
       "    .dataframe thead th {\n",
       "        text-align: right;\n",
       "    }\n",
       "</style>\n",
       "<table border=\"1\" class=\"dataframe\">\n",
       "  <thead>\n",
       "    <tr style=\"text-align: right;\">\n",
       "      <th></th>\n",
       "      <th>0</th>\n",
       "    </tr>\n",
       "  </thead>\n",
       "  <tbody>\n",
       "    <tr>\n",
       "      <th>0</th>\n",
       "      <td>registrationid</td>\n",
       "    </tr>\n",
       "    <tr>\n",
       "      <th>1</th>\n",
       "      <td>churned</td>\n",
       "    </tr>\n",
       "    <tr>\n",
       "      <th>2</th>\n",
       "      <td>score</td>\n",
       "    </tr>\n",
       "    <tr>\n",
       "      <th>3</th>\n",
       "      <td>energy_efficiency</td>\n",
       "    </tr>\n",
       "    <tr>\n",
       "      <th>4</th>\n",
       "      <td>water_efficiency</td>\n",
       "    </tr>\n",
       "    <tr>\n",
       "      <th>5</th>\n",
       "      <td>number_of_311_complains_past_year</td>\n",
       "    </tr>\n",
       "    <tr>\n",
       "      <th>6</th>\n",
       "      <td>number_of_311_complains_2_years_prior</td>\n",
       "    </tr>\n",
       "    <tr>\n",
       "      <th>7</th>\n",
       "      <td>number_of_ecb_violations_last_year</td>\n",
       "    </tr>\n",
       "    <tr>\n",
       "      <th>8</th>\n",
       "      <td>number_of_ecb_violations_2_years_prior</td>\n",
       "    </tr>\n",
       "    <tr>\n",
       "      <th>9</th>\n",
       "      <td>hmcv_violations_past_year_class_a</td>\n",
       "    </tr>\n",
       "    <tr>\n",
       "      <th>10</th>\n",
       "      <td>hmcv_violations_past_year_class_b</td>\n",
       "    </tr>\n",
       "    <tr>\n",
       "      <th>11</th>\n",
       "      <td>hmcv_violations_past_year_class_c</td>\n",
       "    </tr>\n",
       "    <tr>\n",
       "      <th>12</th>\n",
       "      <td>hmcv_violations_2_years_prior_class_a</td>\n",
       "    </tr>\n",
       "    <tr>\n",
       "      <th>13</th>\n",
       "      <td>hmcv_violations_2_years_prior_class_b</td>\n",
       "    </tr>\n",
       "    <tr>\n",
       "      <th>14</th>\n",
       "      <td>hmcv_violations_2_years_prior_class_c</td>\n",
       "    </tr>\n",
       "    <tr>\n",
       "      <th>15</th>\n",
       "      <td>total_resolve_time</td>\n",
       "    </tr>\n",
       "    <tr>\n",
       "      <th>16</th>\n",
       "      <td>total_violations</td>\n",
       "    </tr>\n",
       "    <tr>\n",
       "      <th>17</th>\n",
       "      <td>violations_open</td>\n",
       "    </tr>\n",
       "    <tr>\n",
       "      <th>18</th>\n",
       "      <td>violations_open_last_year</td>\n",
       "    </tr>\n",
       "    <tr>\n",
       "      <th>19</th>\n",
       "      <td>violations_2_years_prior</td>\n",
       "    </tr>\n",
       "    <tr>\n",
       "      <th>20</th>\n",
       "      <td>hearing_outcomes</td>\n",
       "    </tr>\n",
       "    <tr>\n",
       "      <th>21</th>\n",
       "      <td>registered</td>\n",
       "    </tr>\n",
       "    <tr>\n",
       "      <th>22</th>\n",
       "      <td>buildingid</td>\n",
       "    </tr>\n",
       "    <tr>\n",
       "      <th>23</th>\n",
       "      <td>housenumber</td>\n",
       "    </tr>\n",
       "    <tr>\n",
       "      <th>24</th>\n",
       "      <td>streetname</td>\n",
       "    </tr>\n",
       "    <tr>\n",
       "      <th>25</th>\n",
       "      <td>boro</td>\n",
       "    </tr>\n",
       "    <tr>\n",
       "      <th>26</th>\n",
       "      <td>zip</td>\n",
       "    </tr>\n",
       "    <tr>\n",
       "      <th>27</th>\n",
       "      <td>communityboard</td>\n",
       "    </tr>\n",
       "    <tr>\n",
       "      <th>28</th>\n",
       "      <td>dobbuildingclassid</td>\n",
       "    </tr>\n",
       "    <tr>\n",
       "      <th>29</th>\n",
       "      <td>legalstories</td>\n",
       "    </tr>\n",
       "    <tr>\n",
       "      <th>30</th>\n",
       "      <td>legalclassa</td>\n",
       "    </tr>\n",
       "    <tr>\n",
       "      <th>31</th>\n",
       "      <td>legalclassb</td>\n",
       "    </tr>\n",
       "    <tr>\n",
       "      <th>32</th>\n",
       "      <td>recordstatus</td>\n",
       "    </tr>\n",
       "    <tr>\n",
       "      <th>33</th>\n",
       "      <td>contactdescription</td>\n",
       "    </tr>\n",
       "    <tr>\n",
       "      <th>34</th>\n",
       "      <td>firstname</td>\n",
       "    </tr>\n",
       "    <tr>\n",
       "      <th>35</th>\n",
       "      <td>lastname</td>\n",
       "    </tr>\n",
       "    <tr>\n",
       "      <th>36</th>\n",
       "      <td>units</td>\n",
       "    </tr>\n",
       "    <tr>\n",
       "      <th>37</th>\n",
       "      <td>number_buildings</td>\n",
       "    </tr>\n",
       "    <tr>\n",
       "      <th>38</th>\n",
       "      <td>avg_resolve_time</td>\n",
       "    </tr>\n",
       "    <tr>\n",
       "      <th>39</th>\n",
       "      <td>hearing_outcomes.1</td>\n",
       "    </tr>\n",
       "    <tr>\n",
       "      <th>40</th>\n",
       "      <td>class_a_per_unit</td>\n",
       "    </tr>\n",
       "    <tr>\n",
       "      <th>41</th>\n",
       "      <td>class_b_per_unit</td>\n",
       "    </tr>\n",
       "    <tr>\n",
       "      <th>42</th>\n",
       "      <td>class_c_per_unit</td>\n",
       "    </tr>\n",
       "    <tr>\n",
       "      <th>43</th>\n",
       "      <td>percent_condo_portfolio</td>\n",
       "    </tr>\n",
       "    <tr>\n",
       "      <th>44</th>\n",
       "      <td>percent_coop_portfolio</td>\n",
       "    </tr>\n",
       "    <tr>\n",
       "      <th>45</th>\n",
       "      <td>percent_genpart_portfolio</td>\n",
       "    </tr>\n",
       "    <tr>\n",
       "      <th>46</th>\n",
       "      <td>percent_llc_portfolio</td>\n",
       "    </tr>\n",
       "    <tr>\n",
       "      <th>47</th>\n",
       "      <td>percent_corp_portfolio</td>\n",
       "    </tr>\n",
       "    <tr>\n",
       "      <th>48</th>\n",
       "      <td>percent_indiv_portfolio</td>\n",
       "    </tr>\n",
       "    <tr>\n",
       "      <th>49</th>\n",
       "      <td>percent_condominium_portfolio</td>\n",
       "    </tr>\n",
       "    <tr>\n",
       "      <th>50</th>\n",
       "      <td>percent_joint_portfolio</td>\n",
       "    </tr>\n",
       "    <tr>\n",
       "      <th>51</th>\n",
       "      <td>percent_lp_portfolio</td>\n",
       "    </tr>\n",
       "    <tr>\n",
       "      <th>52</th>\n",
       "      <td>percent_hdfc_portfolio</td>\n",
       "    </tr>\n",
       "    <tr>\n",
       "      <th>53</th>\n",
       "      <td>percent_registered</td>\n",
       "    </tr>\n",
       "    <tr>\n",
       "      <th>54</th>\n",
       "      <td>average_energy</td>\n",
       "    </tr>\n",
       "    <tr>\n",
       "      <th>55</th>\n",
       "      <td>average_water</td>\n",
       "    </tr>\n",
       "    <tr>\n",
       "      <th>56</th>\n",
       "      <td>management_ranking</td>\n",
       "    </tr>\n",
       "    <tr>\n",
       "      <th>57</th>\n",
       "      <td>corporationname</td>\n",
       "    </tr>\n",
       "  </tbody>\n",
       "</table>\n",
       "</div>"
      ],
      "text/plain": [
       "                                         0\n",
       "0                           registrationid\n",
       "1                                  churned\n",
       "2                                    score\n",
       "3                        energy_efficiency\n",
       "4                         water_efficiency\n",
       "5        number_of_311_complains_past_year\n",
       "6    number_of_311_complains_2_years_prior\n",
       "7       number_of_ecb_violations_last_year\n",
       "8   number_of_ecb_violations_2_years_prior\n",
       "9        hmcv_violations_past_year_class_a\n",
       "10       hmcv_violations_past_year_class_b\n",
       "11       hmcv_violations_past_year_class_c\n",
       "12   hmcv_violations_2_years_prior_class_a\n",
       "13   hmcv_violations_2_years_prior_class_b\n",
       "14   hmcv_violations_2_years_prior_class_c\n",
       "15                      total_resolve_time\n",
       "16                        total_violations\n",
       "17                         violations_open\n",
       "18               violations_open_last_year\n",
       "19                violations_2_years_prior\n",
       "20                        hearing_outcomes\n",
       "21                              registered\n",
       "22                              buildingid\n",
       "23                             housenumber\n",
       "24                              streetname\n",
       "25                                    boro\n",
       "26                                     zip\n",
       "27                          communityboard\n",
       "28                      dobbuildingclassid\n",
       "29                            legalstories\n",
       "30                             legalclassa\n",
       "31                             legalclassb\n",
       "32                            recordstatus\n",
       "33                      contactdescription\n",
       "34                               firstname\n",
       "35                                lastname\n",
       "36                                   units\n",
       "37                        number_buildings\n",
       "38                        avg_resolve_time\n",
       "39                      hearing_outcomes.1\n",
       "40                        class_a_per_unit\n",
       "41                        class_b_per_unit\n",
       "42                        class_c_per_unit\n",
       "43                 percent_condo_portfolio\n",
       "44                  percent_coop_portfolio\n",
       "45               percent_genpart_portfolio\n",
       "46                   percent_llc_portfolio\n",
       "47                  percent_corp_portfolio\n",
       "48                 percent_indiv_portfolio\n",
       "49           percent_condominium_portfolio\n",
       "50                 percent_joint_portfolio\n",
       "51                    percent_lp_portfolio\n",
       "52                  percent_hdfc_portfolio\n",
       "53                      percent_registered\n",
       "54                          average_energy\n",
       "55                           average_water\n",
       "56                      management_ranking\n",
       "57                         corporationname"
      ]
     },
     "execution_count": 112,
     "metadata": {},
     "output_type": "execute_result"
    }
   ],
   "source": [
    "pd.DataFrame(df.columns)"
   ]
  },
  {
   "cell_type": "code",
   "execution_count": 113,
   "metadata": {},
   "outputs": [],
   "source": [
    "df = df.drop(['registrationid', 'buildingid', 'housenumber', 'streetname', 'boro', 'zip', 'recordstatus',\n",
    "             'contactdescription', 'firstname', 'lastname', ], \n",
    "             axis=1)"
   ]
  },
  {
   "cell_type": "code",
   "execution_count": 114,
   "metadata": {},
   "outputs": [
    {
     "data": {
      "text/plain": [
       "churned                                                           0\n",
       "score                                                        402.64\n",
       "energy_efficiency                                            263.65\n",
       "water_efficiency                                             134.99\n",
       "number_of_311_complains_past_year                                 1\n",
       "number_of_311_complains_2_years_prior                             2\n",
       "number_of_ecb_violations_last_year                                0\n",
       "number_of_ecb_violations_2_years_prior                            0\n",
       "hmcv_violations_past_year_class_a                                 0\n",
       "hmcv_violations_past_year_class_b                                 0\n",
       "hmcv_violations_past_year_class_c                                 0\n",
       "hmcv_violations_2_years_prior_class_a                             0\n",
       "hmcv_violations_2_years_prior_class_b                             0\n",
       "hmcv_violations_2_years_prior_class_c                             0\n",
       "total_resolve_time                                                4\n",
       "total_violations                                                  3\n",
       "violations_open                                                   0\n",
       "violations_open_last_year                                         0\n",
       "violations_2_years_prior                                          0\n",
       "hearing_outcomes                                                NaN\n",
       "registered                                                      YES\n",
       "communityboard                                                    2\n",
       "dobbuildingclassid                                               23\n",
       "legalstories                                                      2\n",
       "legalclassa                                                       1\n",
       "legalclassb                                                       0\n",
       "units                                                            50\n",
       "number_buildings                                                 31\n",
       "avg_resolve_time                                            44.9748\n",
       "hearing_outcomes.1                                        -0.986111\n",
       "class_a_per_unit                                               0.04\n",
       "class_b_per_unit                                               0.04\n",
       "class_c_per_unit                                                  0\n",
       "percent_condo_portfolio                                        0.71\n",
       "percent_coop_portfolio                                          NaN\n",
       "percent_genpart_portfolio                                       NaN\n",
       "percent_llc_portfolio                                           NaN\n",
       "percent_corp_portfolio                                          NaN\n",
       "percent_indiv_portfolio                                        0.29\n",
       "percent_condominium_portfolio                                   NaN\n",
       "percent_joint_portfolio                                         NaN\n",
       "percent_lp_portfolio                                            NaN\n",
       "percent_hdfc_portfolio                                          NaN\n",
       "percent_registered                                             0.39\n",
       "average_energy                                               263.65\n",
       "average_water                                                134.99\n",
       "management_ranking                                          401.834\n",
       "corporationname                           COLBY PROPERTY MANAGEMENT\n",
       "Name: 0, dtype: object"
      ]
     },
     "execution_count": 114,
     "metadata": {},
     "output_type": "execute_result"
    }
   ],
   "source": [
    "df.iloc[0, :]"
   ]
  },
  {
   "cell_type": "code",
   "execution_count": 115,
   "metadata": {},
   "outputs": [
    {
     "data": {
      "text/html": [
       "<div>\n",
       "<style scoped>\n",
       "    .dataframe tbody tr th:only-of-type {\n",
       "        vertical-align: middle;\n",
       "    }\n",
       "\n",
       "    .dataframe tbody tr th {\n",
       "        vertical-align: top;\n",
       "    }\n",
       "\n",
       "    .dataframe thead th {\n",
       "        text-align: right;\n",
       "    }\n",
       "</style>\n",
       "<table border=\"1\" class=\"dataframe\">\n",
       "  <thead>\n",
       "    <tr style=\"text-align: right;\">\n",
       "      <th></th>\n",
       "      <th>percent_condo_portfolio</th>\n",
       "      <th>percent_coop_portfolio</th>\n",
       "      <th>percent_genpart_portfolio</th>\n",
       "      <th>percent_llc_portfolio</th>\n",
       "      <th>percent_corp_portfolio</th>\n",
       "      <th>percent_indiv_portfolio</th>\n",
       "      <th>percent_condominium_portfolio</th>\n",
       "      <th>percent_joint_portfolio</th>\n",
       "      <th>percent_lp_portfolio</th>\n",
       "      <th>percent_hdfc_portfolio</th>\n",
       "    </tr>\n",
       "  </thead>\n",
       "  <tbody>\n",
       "    <tr>\n",
       "      <th>0</th>\n",
       "      <td>0.71</td>\n",
       "      <td>0.0</td>\n",
       "      <td>0.0</td>\n",
       "      <td>0.0</td>\n",
       "      <td>0.0</td>\n",
       "      <td>0.29</td>\n",
       "      <td>0.0</td>\n",
       "      <td>0.0</td>\n",
       "      <td>0.0</td>\n",
       "      <td>0.0</td>\n",
       "    </tr>\n",
       "    <tr>\n",
       "      <th>1</th>\n",
       "      <td>0.71</td>\n",
       "      <td>0.0</td>\n",
       "      <td>0.0</td>\n",
       "      <td>0.0</td>\n",
       "      <td>0.0</td>\n",
       "      <td>0.29</td>\n",
       "      <td>0.0</td>\n",
       "      <td>0.0</td>\n",
       "      <td>0.0</td>\n",
       "      <td>0.0</td>\n",
       "    </tr>\n",
       "    <tr>\n",
       "      <th>2</th>\n",
       "      <td>0.71</td>\n",
       "      <td>0.0</td>\n",
       "      <td>0.0</td>\n",
       "      <td>0.0</td>\n",
       "      <td>0.0</td>\n",
       "      <td>0.29</td>\n",
       "      <td>0.0</td>\n",
       "      <td>0.0</td>\n",
       "      <td>0.0</td>\n",
       "      <td>0.0</td>\n",
       "    </tr>\n",
       "    <tr>\n",
       "      <th>3</th>\n",
       "      <td>0.71</td>\n",
       "      <td>0.0</td>\n",
       "      <td>0.0</td>\n",
       "      <td>0.0</td>\n",
       "      <td>0.0</td>\n",
       "      <td>0.29</td>\n",
       "      <td>0.0</td>\n",
       "      <td>0.0</td>\n",
       "      <td>0.0</td>\n",
       "      <td>0.0</td>\n",
       "    </tr>\n",
       "    <tr>\n",
       "      <th>4</th>\n",
       "      <td>0.71</td>\n",
       "      <td>0.0</td>\n",
       "      <td>0.0</td>\n",
       "      <td>0.0</td>\n",
       "      <td>0.0</td>\n",
       "      <td>0.29</td>\n",
       "      <td>0.0</td>\n",
       "      <td>0.0</td>\n",
       "      <td>0.0</td>\n",
       "      <td>0.0</td>\n",
       "    </tr>\n",
       "  </tbody>\n",
       "</table>\n",
       "</div>"
      ],
      "text/plain": [
       "   percent_condo_portfolio  percent_coop_portfolio  percent_genpart_portfolio  \\\n",
       "0                     0.71                     0.0                        0.0   \n",
       "1                     0.71                     0.0                        0.0   \n",
       "2                     0.71                     0.0                        0.0   \n",
       "3                     0.71                     0.0                        0.0   \n",
       "4                     0.71                     0.0                        0.0   \n",
       "\n",
       "   percent_llc_portfolio  percent_corp_portfolio  percent_indiv_portfolio  \\\n",
       "0                    0.0                     0.0                     0.29   \n",
       "1                    0.0                     0.0                     0.29   \n",
       "2                    0.0                     0.0                     0.29   \n",
       "3                    0.0                     0.0                     0.29   \n",
       "4                    0.0                     0.0                     0.29   \n",
       "\n",
       "   percent_condominium_portfolio  percent_joint_portfolio  \\\n",
       "0                            0.0                      0.0   \n",
       "1                            0.0                      0.0   \n",
       "2                            0.0                      0.0   \n",
       "3                            0.0                      0.0   \n",
       "4                            0.0                      0.0   \n",
       "\n",
       "   percent_lp_portfolio  percent_hdfc_portfolio  \n",
       "0                   0.0                     0.0  \n",
       "1                   0.0                     0.0  \n",
       "2                   0.0                     0.0  \n",
       "3                   0.0                     0.0  \n",
       "4                   0.0                     0.0  "
      ]
     },
     "execution_count": 115,
     "metadata": {},
     "output_type": "execute_result"
    }
   ],
   "source": [
    "p_i_start, p_i_end = df.columns.get_loc('percent_condo_portfolio'), df.columns.get_loc('percent_hdfc_portfolio')\n",
    "df.iloc[:, p_i_start:p_i_end + 1] = df.iloc[:, p_i_start:p_i_end + 1].fillna(0, axis=1)\n",
    "df.iloc[0:5, p_i_start:p_i_end + 1]"
   ]
  },
  {
   "cell_type": "code",
   "execution_count": 116,
   "metadata": {},
   "outputs": [
    {
     "data": {
      "text/html": [
       "<div>\n",
       "<style scoped>\n",
       "    .dataframe tbody tr th:only-of-type {\n",
       "        vertical-align: middle;\n",
       "    }\n",
       "\n",
       "    .dataframe tbody tr th {\n",
       "        vertical-align: top;\n",
       "    }\n",
       "\n",
       "    .dataframe thead th {\n",
       "        text-align: right;\n",
       "    }\n",
       "</style>\n",
       "<table border=\"1\" class=\"dataframe\">\n",
       "  <thead>\n",
       "    <tr style=\"text-align: right;\">\n",
       "      <th></th>\n",
       "      <th>Null</th>\n",
       "    </tr>\n",
       "  </thead>\n",
       "  <tbody>\n",
       "    <tr>\n",
       "      <th>total_resolve_time</th>\n",
       "      <td>778</td>\n",
       "    </tr>\n",
       "    <tr>\n",
       "      <th>hearing_outcomes</th>\n",
       "      <td>1004</td>\n",
       "    </tr>\n",
       "    <tr>\n",
       "      <th>dobbuildingclassid</th>\n",
       "      <td>1</td>\n",
       "    </tr>\n",
       "    <tr>\n",
       "      <th>legalclassa</th>\n",
       "      <td>1</td>\n",
       "    </tr>\n",
       "    <tr>\n",
       "      <th>legalclassb</th>\n",
       "      <td>624</td>\n",
       "    </tr>\n",
       "    <tr>\n",
       "      <th>units</th>\n",
       "      <td>53</td>\n",
       "    </tr>\n",
       "    <tr>\n",
       "      <th>avg_resolve_time</th>\n",
       "      <td>41</td>\n",
       "    </tr>\n",
       "    <tr>\n",
       "      <th>hearing_outcomes.1</th>\n",
       "      <td>43</td>\n",
       "    </tr>\n",
       "    <tr>\n",
       "      <th>class_a_per_unit</th>\n",
       "      <td>53</td>\n",
       "    </tr>\n",
       "    <tr>\n",
       "      <th>class_b_per_unit</th>\n",
       "      <td>53</td>\n",
       "    </tr>\n",
       "    <tr>\n",
       "      <th>class_c_per_unit</th>\n",
       "      <td>53</td>\n",
       "    </tr>\n",
       "  </tbody>\n",
       "</table>\n",
       "</div>"
      ],
      "text/plain": [
       "                    Null\n",
       "total_resolve_time   778\n",
       "hearing_outcomes    1004\n",
       "dobbuildingclassid     1\n",
       "legalclassa            1\n",
       "legalclassb          624\n",
       "units                 53\n",
       "avg_resolve_time      41\n",
       "hearing_outcomes.1    43\n",
       "class_a_per_unit      53\n",
       "class_b_per_unit      53\n",
       "class_c_per_unit      53"
      ]
     },
     "execution_count": 116,
     "metadata": {},
     "output_type": "execute_result"
    }
   ],
   "source": [
    "null = pd.DataFrame(df.isnull().sum()).rename(columns={0: 'Null'})\n",
    "null[null.Null > 0]"
   ]
  },
  {
   "cell_type": "code",
   "execution_count": 117,
   "metadata": {},
   "outputs": [
    {
     "data": {
      "text/plain": [
       "<matplotlib.axes._subplots.AxesSubplot at 0x2552c141d30>"
      ]
     },
     "execution_count": 117,
     "metadata": {},
     "output_type": "execute_result"
    },
    {
     "data": {
      "image/png": "[encoded data removed]",
      "text/plain": [
       "<Figure size 1008x576 with 1 Axes>"
      ]
     },
     "metadata": {
      "needs_background": "light"
     },
     "output_type": "display_data"
    }
   ],
   "source": [
    "plt.figure(figsize=(14, 8))\n",
    "df.hearing_outcomes.hist()"
   ]
  },
  {
   "cell_type": "code",
   "execution_count": 118,
   "metadata": {},
   "outputs": [
    {
     "name": "stdout",
     "output_type": "stream",
     "text": [
      "-1.0 -1.0344529328128542 961.0\n"
     ]
    }
   ],
   "source": [
    "hear_m = df.hearing_outcomes.median()\n",
    "hea1_m = df['hearing_outcomes.1'].median()\n",
    "total_resolve_time_median = df.total_resolve_time.median()\n",
    "df.hearing_outcomes = df.hearing_outcomes.fillna(hear_m)\n",
    "df.total_resolve_time = df.total_resolve_time.fillna(total_resolve_time_median)\n",
    "df = df.fillna({'hearing_outcomes': hear_m, 'hearing_outcomes.1': hea1_m, 'total_resolve_time': total_resolve_time_median})\n",
    "print(hear_m, hea1_m, total_resolve_time_median)"
   ]
  },
  {
   "cell_type": "code",
   "execution_count": 119,
   "metadata": {},
   "outputs": [
    {
     "data": {
      "text/plain": [
       "legalclassa    33\n",
       "legalclassb     1\n",
       "dtype: int64"
      ]
     },
     "execution_count": 119,
     "metadata": {},
     "output_type": "execute_result"
    }
   ],
   "source": [
    "df[df.churned == 1][['legalclassa', 'legalclassb']].nunique()"
   ]
  },
  {
   "cell_type": "code",
   "execution_count": 120,
   "metadata": {},
   "outputs": [
    {
     "data": {
      "text/plain": [
       "legalclassa    15.0\n",
       "legalclassb     0.0\n",
       "dtype: float64"
      ]
     },
     "execution_count": 120,
     "metadata": {},
     "output_type": "execute_result"
    }
   ],
   "source": [
    "medians = df[['legalclassa', 'legalclassb']].median()\n",
    "df = df.fillna({'legalclassa': medians[0], 'legalclassb': medians[1]})\n",
    "medians"
   ]
  },
  {
   "cell_type": "code",
   "execution_count": 121,
   "metadata": {},
   "outputs": [],
   "source": [
    "df = df.fillna(df[null[null.Null > 0].index].median())"
   ]
  },
  {
   "cell_type": "code",
   "execution_count": 122,
   "metadata": {},
   "outputs": [
    {
     "data": {
      "text/plain": [
       "registered         object\n",
       "corporationname    object\n",
       "dtype: object"
      ]
     },
     "execution_count": 122,
     "metadata": {},
     "output_type": "execute_result"
    }
   ],
   "source": [
    "df.dtypes[(df.dtypes != 'int64') & (df.dtypes != 'float64')]"
   ]
  },
  {
   "cell_type": "code",
   "execution_count": 123,
   "metadata": {},
   "outputs": [],
   "source": [
    "df.registered = df.registered.apply(lambda s: 1 if s == 'YES' else 0)"
   ]
  },
  {
   "cell_type": "code",
   "execution_count": 124,
   "metadata": {},
   "outputs": [
    {
     "name": "stdout",
     "output_type": "stream",
     "text": [
      "55\n"
     ]
    },
    {
     "data": {
      "text/plain": [
       "<matplotlib.axes._subplots.AxesSubplot at 0x2552be50fd0>"
      ]
     },
     "execution_count": 124,
     "metadata": {},
     "output_type": "execute_result"
    },
    {
     "data": {
      "image/png": "[encoded data removed]",
      "text/plain": [
       "<Figure size 432x288 with 1 Axes>"
      ]
     },
     "metadata": {
      "needs_background": "light"
     },
     "output_type": "display_data"
    }
   ],
   "source": [
    "print((df.churned == 1).sum())\n",
    "df[df.churned == 1].registered.hist()"
   ]
  },
  {
   "cell_type": "code",
   "execution_count": 125,
   "metadata": {},
   "outputs": [
    {
     "data": {
      "text/plain": [
       "<matplotlib.axes._subplots.AxesSubplot at 0x2552e127da0>"
      ]
     },
     "execution_count": 125,
     "metadata": {},
     "output_type": "execute_result"
    },
    {
     "data": {
      "image/png": "[encoded data removed]",
      "text/plain": [
       "<Figure size 1008x576 with 2 Axes>"
      ]
     },
     "metadata": {
      "needs_background": "light"
     },
     "output_type": "display_data"
    }
   ],
   "source": [
    "plt.figure(figsize=(14, 8))\n",
    "sns.heatmap(df.corr())"
   ]
  },
  {
   "cell_type": "code",
   "execution_count": 126,
   "metadata": {},
   "outputs": [
    {
     "data": {
      "text/plain": [
       "<matplotlib.axes._subplots.AxesSubplot at 0x2552e0b39b0>"
      ]
     },
     "execution_count": 126,
     "metadata": {},
     "output_type": "execute_result"
    },
    {
     "data": {
      "image/png": "[encoded data removed]",
      "text/plain": [
       "<Figure size 1008x576 with 2 Axes>"
      ]
     },
     "metadata": {
      "needs_background": "light"
     },
     "output_type": "display_data"
    }
   ],
   "source": [
    "plt.figure(figsize=(14, 8))\n",
    "sns.heatmap(pd.DataFrame(df.iloc[:, 1:].corrwith(df.churned)))"
   ]
  },
  {
   "cell_type": "code",
   "execution_count": 127,
   "metadata": {},
   "outputs": [
    {
     "data": {
      "text/plain": [
       "39"
      ]
     },
     "execution_count": 127,
     "metadata": {},
     "output_type": "execute_result"
    }
   ],
   "source": [
    "df[df.churned == 1].corporationname.nunique()"
   ]
  },
  {
   "cell_type": "code",
   "execution_count": 128,
   "metadata": {},
   "outputs": [],
   "source": [
    "df = df.drop('corporationname', axis=1)"
   ]
  },
  {
   "cell_type": "code",
   "execution_count": 129,
   "metadata": {},
   "outputs": [],
   "source": [
    "X = df.iloc[:, 1:]\n",
    "y = pd.DataFrame(df.iloc[:, 0])"
   ]
  },
  {
   "cell_type": "code",
   "execution_count": 130,
   "metadata": {},
   "outputs": [],
   "source": [
    "y['weight'] = y.churned.apply(lambda x: 500 if x else 0.1)"
   ]
  },
  {
   "cell_type": "code",
   "execution_count": 131,
   "metadata": {},
   "outputs": [],
   "source": [
    "from sklearn.model_selection import train_test_split"
   ]
  },
  {
   "cell_type": "code",
   "execution_count": 132,
   "metadata": {},
   "outputs": [],
   "source": [
    "X_train, X_test, y_train, y_test = train_test_split(X, y, test_size=0.2, random_state=42)"
   ]
  },
  {
   "cell_type": "code",
   "execution_count": 133,
   "metadata": {},
   "outputs": [
    {
     "data": {
      "text/plain": [
       "churned    8\n",
       "weight     0\n",
       "dtype: int64"
      ]
     },
     "execution_count": 133,
     "metadata": {},
     "output_type": "execute_result"
    }
   ],
   "source": [
    "(y_test == 1).sum()"
   ]
  },
  {
   "cell_type": "code",
   "execution_count": 134,
   "metadata": {},
   "outputs": [
    {
     "data": {
      "text/html": [
       "<div>\n",
       "<style scoped>\n",
       "    .dataframe tbody tr th:only-of-type {\n",
       "        vertical-align: middle;\n",
       "    }\n",
       "\n",
       "    .dataframe tbody tr th {\n",
       "        vertical-align: top;\n",
       "    }\n",
       "\n",
       "    .dataframe thead th {\n",
       "        text-align: right;\n",
       "    }\n",
       "</style>\n",
       "<table border=\"1\" class=\"dataframe\">\n",
       "  <thead>\n",
       "    <tr style=\"text-align: right;\">\n",
       "      <th></th>\n",
       "      <th>churned</th>\n",
       "      <th>weight</th>\n",
       "    </tr>\n",
       "  </thead>\n",
       "  <tbody>\n",
       "    <tr>\n",
       "      <th>3555</th>\n",
       "      <td>1</td>\n",
       "      <td>500.0</td>\n",
       "    </tr>\n",
       "    <tr>\n",
       "      <th>8341</th>\n",
       "      <td>1</td>\n",
       "      <td>500.0</td>\n",
       "    </tr>\n",
       "    <tr>\n",
       "      <th>185</th>\n",
       "      <td>1</td>\n",
       "      <td>500.0</td>\n",
       "    </tr>\n",
       "    <tr>\n",
       "      <th>4254</th>\n",
       "      <td>1</td>\n",
       "      <td>500.0</td>\n",
       "    </tr>\n",
       "    <tr>\n",
       "      <th>5020</th>\n",
       "      <td>1</td>\n",
       "      <td>500.0</td>\n",
       "    </tr>\n",
       "  </tbody>\n",
       "</table>\n",
       "</div>"
      ],
      "text/plain": [
       "      churned  weight\n",
       "3555        1   500.0\n",
       "8341        1   500.0\n",
       "185         1   500.0\n",
       "4254        1   500.0\n",
       "5020        1   500.0"
      ]
     },
     "execution_count": 134,
     "metadata": {},
     "output_type": "execute_result"
    }
   ],
   "source": [
    "y_test[y_test.churned == 1].head()"
   ]
  },
  {
   "cell_type": "markdown",
   "metadata": {},
   "source": [
    "# XGBoost"
   ]
  },
  {
   "cell_type": "code",
   "execution_count": 135,
   "metadata": {},
   "outputs": [],
   "source": [
    "import xgboost as xgb"
   ]
  },
  {
   "cell_type": "code",
   "execution_count": 136,
   "metadata": {},
   "outputs": [],
   "source": [
    "model = xgb.XGBClassifier(n_jobs=-1)"
   ]
  },
  {
   "cell_type": "code",
   "execution_count": 137,
   "metadata": {},
   "outputs": [
    {
     "name": "stdout",
     "output_type": "stream",
     "text": [
      "[0]\tvalidation_0-error:0.011312\tvalidation_1-error:0.254944\n",
      "[1]\tvalidation_0-error:0.01201\tvalidation_1-error:0.255776\n",
      "[2]\tvalidation_0-error:0.011312\tvalidation_1-error:0.254944\n",
      "[3]\tvalidation_0-error:0.01185\tvalidation_1-error:0.255515\n",
      "[4]\tvalidation_0-error:0.011312\tvalidation_1-error:0.254944\n",
      "[5]\tvalidation_0-error:0.010662\tvalidation_1-error:0.254112\n",
      "[6]\tvalidation_0-error:0.011838\tvalidation_1-error:0.255491\n",
      "[7]\tvalidation_0-error:0.011562\tvalidation_1-error:0.255277\n",
      "[8]\tvalidation_0-error:0.011747\tvalidation_1-error:0.255538\n",
      "[9]\tvalidation_0-error:0.011649\tvalidation_1-error:0.255419\n",
      "[10]\tvalidation_0-error:0.011534\tvalidation_1-error:0.255277\n",
      "[11]\tvalidation_0-error:0.011645\tvalidation_1-error:0.255419\n",
      "[12]\tvalidation_0-error:0.011534\tvalidation_1-error:0.255206\n",
      "[13]\tvalidation_0-error:0.011513\tvalidation_1-error:0.25511\n",
      "[14]\tvalidation_0-error:0.011743\tvalidation_1-error:0.255396\n",
      "[15]\tvalidation_0-error:0.011464\tvalidation_1-error:0.254992\n",
      "[16]\tvalidation_0-error:0.011612\tvalidation_1-error:0.255182\n",
      "[17]\tvalidation_0-error:0.011447\tvalidation_1-error:0.254944\n"
     ]
    },
    {
     "name": "stderr",
     "output_type": "stream",
     "text": [
      "C:\\Users\\PC\\Anaconda3\\lib\\site-packages\\xgboost\\core.py:587: FutureWarning: Series.base is deprecated and will be removed in a future version\n",
      "  if getattr(data, 'base', None) is not None and \\\n",
      "C:\\Users\\PC\\Anaconda3\\lib\\site-packages\\xgboost\\core.py:588: FutureWarning: Series.base is deprecated and will be removed in a future version\n",
      "  data.base is not None and isinstance(data, np.ndarray) \\\n"
     ]
    },
    {
     "name": "stdout",
     "output_type": "stream",
     "text": [
      "[18]\tvalidation_0-error:0.011456\tvalidation_1-error:0.254968\n",
      "[19]\tvalidation_0-error:0.011398\tvalidation_1-error:0.254897\n",
      "[20]\tvalidation_0-error:0.011003\tvalidation_1-error:0.25435\n",
      "[21]\tvalidation_0-error:0.011127\tvalidation_1-error:0.254445\n",
      "[22]\tvalidation_0-error:0.011345\tvalidation_1-error:0.254897\n",
      "[23]\tvalidation_0-error:0.011221\tvalidation_1-error:0.254683\n",
      "[24]\tvalidation_0-error:0.011065\tvalidation_1-error:0.254398\n",
      "[25]\tvalidation_0-error:0.010806\tvalidation_1-error:0.254136\n",
      "[26]\tvalidation_0-error:0.010765\tvalidation_1-error:0.253851\n",
      "[27]\tvalidation_0-error:0.010531\tvalidation_1-error:0.253376\n",
      "[28]\tvalidation_0-error:0.010399\tvalidation_1-error:0.253233\n",
      "[29]\tvalidation_0-error:0.009885\tvalidation_1-error:0.252496\n",
      "[30]\tvalidation_0-error:0.00998\tvalidation_1-error:0.252544\n",
      "[31]\tvalidation_0-error:0.009585\tvalidation_1-error:0.251783\n",
      "[32]\tvalidation_0-error:0.009655\tvalidation_1-error:0.251807\n",
      "[33]\tvalidation_0-error:0.009565\tvalidation_1-error:0.251759\n",
      "[34]\tvalidation_0-error:0.009651\tvalidation_1-error:0.251855\n",
      "[35]\tvalidation_0-error:0.009433\tvalidation_1-error:0.251641\n",
      "[36]\tvalidation_0-error:0.009331\tvalidation_1-error:0.251403\n",
      "[37]\tvalidation_0-error:0.009215\tvalidation_1-error:0.25126\n",
      "[38]\tvalidation_0-error:0.008911\tvalidation_1-error:0.25088\n",
      "[39]\tvalidation_0-error:0.008833\tvalidation_1-error:0.250737\n",
      "[40]\tvalidation_0-error:0.008743\tvalidation_1-error:0.250595\n",
      "[41]\tvalidation_0-error:0.008517\tvalidation_1-error:0.250357\n",
      "[42]\tvalidation_0-error:0.008406\tvalidation_1-error:0.250333\n",
      "[43]\tvalidation_0-error:0.00825\tvalidation_1-error:0.250048\n",
      "[44]\tvalidation_0-error:0.00811\tvalidation_1-error:0.249811\n",
      "[45]\tvalidation_0-error:0.007867\tvalidation_1-error:0.249478\n",
      "[46]\tvalidation_0-error:0.007773\tvalidation_1-error:0.24924\n",
      "[47]\tvalidation_0-error:0.007711\tvalidation_1-error:0.249121\n",
      "[48]\tvalidation_0-error:0.007551\tvalidation_1-error:0.248907\n",
      "[49]\tvalidation_0-error:0.007485\tvalidation_1-error:0.248884\n",
      "[50]\tvalidation_0-error:0.007341\tvalidation_1-error:0.248741\n",
      "[51]\tvalidation_0-error:0.007296\tvalidation_1-error:0.248622\n",
      "[52]\tvalidation_0-error:0.00723\tvalidation_1-error:0.248503\n",
      "[53]\tvalidation_0-error:0.00714\tvalidation_1-error:0.248266\n",
      "[54]\tvalidation_0-error:0.007029\tvalidation_1-error:0.248028\n",
      "[55]\tvalidation_0-error:0.006951\tvalidation_1-error:0.247957\n",
      "[56]\tvalidation_0-error:0.006794\tvalidation_1-error:0.24779\n",
      "[57]\tvalidation_0-error:0.006638\tvalidation_1-error:0.366195\n",
      "[58]\tvalidation_0-error:0.006535\tvalidation_1-error:0.366053\n",
      "[59]\tvalidation_0-error:0.006466\tvalidation_1-error:0.365934\n",
      "[60]\tvalidation_0-error:0.006346\tvalidation_1-error:0.365673\n",
      "[61]\tvalidation_0-error:0.006264\tvalidation_1-error:0.365459\n",
      "[62]\tvalidation_0-error:0.006166\tvalidation_1-error:0.365316\n",
      "[63]\tvalidation_0-error:0.006046\tvalidation_1-error:0.365174\n",
      "[64]\tvalidation_0-error:0.005944\tvalidation_1-error:0.365031\n",
      "[65]\tvalidation_0-error:0.005845\tvalidation_1-error:0.365007\n",
      "[66]\tvalidation_0-error:0.005635\tvalidation_1-error:0.364746\n",
      "[67]\tvalidation_0-error:0.005565\tvalidation_1-error:0.364627\n",
      "[68]\tvalidation_0-error:0.005463\tvalidation_1-error:0.364484\n",
      "[69]\tvalidation_0-error:0.005343\tvalidation_1-error:0.364294\n",
      "[70]\tvalidation_0-error:0.005224\tvalidation_1-error:0.364152\n",
      "[71]\tvalidation_0-error:0.005097\tvalidation_1-error:0.36389\n",
      "[72]\tvalidation_0-error:0.004978\tvalidation_1-error:0.363748\n",
      "[73]\tvalidation_0-error:0.004826\tvalidation_1-error:0.363558\n",
      "[74]\tvalidation_0-error:0.004735\tvalidation_1-error:0.363534\n",
      "[75]\tvalidation_0-error:0.004624\tvalidation_1-error:0.363462\n",
      "[76]\tvalidation_0-error:0.004579\tvalidation_1-error:0.363296\n",
      "[77]\tvalidation_0-error:0.004534\tvalidation_1-error:0.363177\n",
      "[78]\tvalidation_0-error:0.004452\tvalidation_1-error:0.36313\n",
      "[79]\tvalidation_0-error:0.004398\tvalidation_1-error:0.363082\n",
      "[80]\tvalidation_0-error:0.004341\tvalidation_1-error:0.362963\n",
      "[81]\tvalidation_0-error:0.004234\tvalidation_1-error:0.362821\n",
      "[82]\tvalidation_0-error:0.004119\tvalidation_1-error:0.362702\n",
      "[83]\tvalidation_0-error:0.00402\tvalidation_1-error:0.362607\n",
      "[84]\tvalidation_0-error:0.003987\tvalidation_1-error:0.362512\n",
      "[85]\tvalidation_0-error:0.003897\tvalidation_1-error:0.362345\n",
      "[86]\tvalidation_0-error:0.003868\tvalidation_1-error:0.362298\n",
      "[87]\tvalidation_0-error:0.003802\tvalidation_1-error:0.362179\n",
      "[88]\tvalidation_0-error:0.003761\tvalidation_1-error:0.362132\n",
      "[89]\tvalidation_0-error:0.003671\tvalidation_1-error:0.362036\n",
      "[90]\tvalidation_0-error:0.003564\tvalidation_1-error:0.361846\n",
      "[91]\tvalidation_0-error:0.003498\tvalidation_1-error:0.361704\n",
      "[92]\tvalidation_0-error:0.003403\tvalidation_1-error:0.361632\n",
      "[93]\tvalidation_0-error:0.003292\tvalidation_1-error:0.36149\n",
      "[94]\tvalidation_0-error:0.003214\tvalidation_1-error:0.361442\n",
      "[95]\tvalidation_0-error:0.003173\tvalidation_1-error:0.361395\n",
      "[96]\tvalidation_0-error:0.00314\tvalidation_1-error:0.3613\n",
      "[97]\tvalidation_0-error:0.003099\tvalidation_1-error:0.361252\n",
      "[98]\tvalidation_0-error:0.003054\tvalidation_1-error:0.361252\n",
      "[99]\tvalidation_0-error:0.003001\tvalidation_1-error:0.361062\n"
     ]
    },
    {
     "data": {
      "text/plain": [
       "XGBClassifier(base_score=0.5, booster='gbtree', colsample_bylevel=1,\n",
       "       colsample_bynode=1, colsample_bytree=1, gamma=0, learning_rate=0.1,\n",
       "       max_delta_step=0, max_depth=3, min_child_weight=1, missing=None,\n",
       "       n_estimators=100, n_jobs=-1, nthread=None,\n",
       "       objective='binary:logistic', random_state=0, reg_alpha=0,\n",
       "       reg_lambda=1, scale_pos_weight=1, seed=None, silent=None,\n",
       "       subsample=1, verbosity=1)"
      ]
     },
     "execution_count": 137,
     "metadata": {},
     "output_type": "execute_result"
    }
   ],
   "source": [
    "model.fit(X_train, y_train.churned,\n",
    "          sample_weight=y_train.weight,\n",
    "          eval_set=[(X_train, y_train.churned), (X_test, y_test.churned)],\n",
    "          sample_weight_eval_set=[y_train.weight, y_test.weight])"
   ]
  },
  {
   "cell_type": "code",
   "execution_count": 138,
   "metadata": {},
   "outputs": [
    {
     "data": {
      "text/plain": [
       "0.9064299424184261"
      ]
     },
     "execution_count": 138,
     "metadata": {},
     "output_type": "execute_result"
    }
   ],
   "source": [
    "y_pred = model.predict(X_test)\n",
    "(y_pred == y_test.churned).sum() / y_test.churned.count()"
   ]
  },
  {
   "cell_type": "code",
   "execution_count": 139,
   "metadata": {},
   "outputs": [
    {
     "data": {
      "text/html": [
       "<div>\n",
       "<style scoped>\n",
       "    .dataframe tbody tr th:only-of-type {\n",
       "        vertical-align: middle;\n",
       "    }\n",
       "\n",
       "    .dataframe tbody tr th {\n",
       "        vertical-align: top;\n",
       "    }\n",
       "\n",
       "    .dataframe thead th {\n",
       "        text-align: right;\n",
       "    }\n",
       "</style>\n",
       "<table border=\"1\" class=\"dataframe\">\n",
       "  <thead>\n",
       "    <tr style=\"text-align: right;\">\n",
       "      <th></th>\n",
       "      <th>0</th>\n",
       "      <th>1</th>\n",
       "    </tr>\n",
       "  </thead>\n",
       "  <tbody>\n",
       "    <tr>\n",
       "      <th>0</th>\n",
       "      <td>1884</td>\n",
       "      <td>192</td>\n",
       "    </tr>\n",
       "    <tr>\n",
       "      <th>1</th>\n",
       "      <td>3</td>\n",
       "      <td>5</td>\n",
       "    </tr>\n",
       "  </tbody>\n",
       "</table>\n",
       "</div>"
      ],
      "text/plain": [
       "      0    1\n",
       "0  1884  192\n",
       "1     3    5"
      ]
     },
     "execution_count": 139,
     "metadata": {},
     "output_type": "execute_result"
    }
   ],
   "source": [
    "pd.DataFrame(confusion_matrix(y_test.churned, y_pred))"
   ]
  },
  {
   "cell_type": "code",
   "execution_count": 140,
   "metadata": {},
   "outputs": [
    {
     "data": {
      "text/plain": [
       "0.9123964958598344"
      ]
     },
     "execution_count": 140,
     "metadata": {},
     "output_type": "execute_result"
    }
   ],
   "source": [
    "y_pred = model.predict(X_train)\n",
    "(y_pred == y_train.churned).sum() / y_train.churned.count()"
   ]
  },
  {
   "cell_type": "code",
   "execution_count": 141,
   "metadata": {},
   "outputs": [
    {
     "data": {
      "text/html": [
       "<div>\n",
       "<style scoped>\n",
       "    .dataframe tbody tr th:only-of-type {\n",
       "        vertical-align: middle;\n",
       "    }\n",
       "\n",
       "    .dataframe tbody tr th {\n",
       "        vertical-align: top;\n",
       "    }\n",
       "\n",
       "    .dataframe thead th {\n",
       "        text-align: right;\n",
       "    }\n",
       "</style>\n",
       "<table border=\"1\" class=\"dataframe\">\n",
       "  <thead>\n",
       "    <tr style=\"text-align: right;\">\n",
       "      <th></th>\n",
       "      <th>0</th>\n",
       "      <th>1</th>\n",
       "    </tr>\n",
       "  </thead>\n",
       "  <tbody>\n",
       "    <tr>\n",
       "      <th>0</th>\n",
       "      <td>7556</td>\n",
       "      <td>730</td>\n",
       "    </tr>\n",
       "    <tr>\n",
       "      <th>1</th>\n",
       "      <td>0</td>\n",
       "      <td>47</td>\n",
       "    </tr>\n",
       "  </tbody>\n",
       "</table>\n",
       "</div>"
      ],
      "text/plain": [
       "      0    1\n",
       "0  7556  730\n",
       "1     0   47"
      ]
     },
     "execution_count": 141,
     "metadata": {},
     "output_type": "execute_result"
    }
   ],
   "source": [
    "pd.DataFrame(confusion_matrix(y_train.churned, y_pred))"
   ]
  },
  {
   "cell_type": "code",
   "execution_count": 142,
   "metadata": {},
   "outputs": [
    {
     "data": {
      "text/html": [
       "<div>\n",
       "<style scoped>\n",
       "    .dataframe tbody tr th:only-of-type {\n",
       "        vertical-align: middle;\n",
       "    }\n",
       "\n",
       "    .dataframe tbody tr th {\n",
       "        vertical-align: top;\n",
       "    }\n",
       "\n",
       "    .dataframe thead th {\n",
       "        text-align: right;\n",
       "    }\n",
       "</style>\n",
       "<table border=\"1\" class=\"dataframe\">\n",
       "  <thead>\n",
       "    <tr style=\"text-align: right;\">\n",
       "      <th></th>\n",
       "      <th>Features</th>\n",
       "      <th>importance</th>\n",
       "    </tr>\n",
       "  </thead>\n",
       "  <tbody>\n",
       "    <tr>\n",
       "      <th>1</th>\n",
       "      <td>energy_efficiency</td>\n",
       "      <td>0.0</td>\n",
       "    </tr>\n",
       "    <tr>\n",
       "      <th>5</th>\n",
       "      <td>number_of_ecb_violations_last_year</td>\n",
       "      <td>0.0</td>\n",
       "    </tr>\n",
       "    <tr>\n",
       "      <th>8</th>\n",
       "      <td>hmcv_violations_past_year_class_b</td>\n",
       "      <td>0.0</td>\n",
       "    </tr>\n",
       "    <tr>\n",
       "      <th>9</th>\n",
       "      <td>hmcv_violations_past_year_class_c</td>\n",
       "      <td>0.0</td>\n",
       "    </tr>\n",
       "    <tr>\n",
       "      <th>11</th>\n",
       "      <td>hmcv_violations_2_years_prior_class_b</td>\n",
       "      <td>0.0</td>\n",
       "    </tr>\n",
       "    <tr>\n",
       "      <th>17</th>\n",
       "      <td>violations_2_years_prior</td>\n",
       "      <td>0.0</td>\n",
       "    </tr>\n",
       "    <tr>\n",
       "      <th>24</th>\n",
       "      <td>legalclassb</td>\n",
       "      <td>0.0</td>\n",
       "    </tr>\n",
       "    <tr>\n",
       "      <th>34</th>\n",
       "      <td>percent_genpart_portfolio</td>\n",
       "      <td>0.0</td>\n",
       "    </tr>\n",
       "    <tr>\n",
       "      <th>38</th>\n",
       "      <td>percent_condominium_portfolio</td>\n",
       "      <td>0.0</td>\n",
       "    </tr>\n",
       "    <tr>\n",
       "      <th>41</th>\n",
       "      <td>percent_hdfc_portfolio</td>\n",
       "      <td>0.0</td>\n",
       "    </tr>\n",
       "  </tbody>\n",
       "</table>\n",
       "</div>"
      ],
      "text/plain": [
       "                                 Features  importance\n",
       "1                       energy_efficiency         0.0\n",
       "5      number_of_ecb_violations_last_year         0.0\n",
       "8       hmcv_violations_past_year_class_b         0.0\n",
       "9       hmcv_violations_past_year_class_c         0.0\n",
       "11  hmcv_violations_2_years_prior_class_b         0.0\n",
       "17               violations_2_years_prior         0.0\n",
       "24                            legalclassb         0.0\n",
       "34              percent_genpart_portfolio         0.0\n",
       "38          percent_condominium_portfolio         0.0\n",
       "41                 percent_hdfc_portfolio         0.0"
      ]
     },
     "execution_count": 142,
     "metadata": {},
     "output_type": "execute_result"
    }
   ],
   "source": [
    "importance = pd.DataFrame({'Features':list(X_train), 'importance':np.round(model.feature_importances_, 3)})\n",
    "del_feat = importance[importance.importance == 0]\n",
    "del_feat"
   ]
  },
  {
   "cell_type": "code",
   "execution_count": 93,
   "metadata": {},
   "outputs": [
    {
     "data": {
      "text/plain": [
       "array(['energy_efficiency', 'number_of_ecb_violations_last_year',\n",
       "       'hmcv_violations_past_year_class_b',\n",
       "       'hmcv_violations_past_year_class_c',\n",
       "       'hmcv_violations_2_years_prior_class_b',\n",
       "       'violations_2_years_prior', 'legalclassb',\n",
       "       'percent_genpart_portfolio', 'percent_condominium_portfolio',\n",
       "       'percent_hdfc_portfolio'], dtype=object)"
      ]
     },
     "execution_count": 93,
     "metadata": {},
     "output_type": "execute_result"
    }
   ],
   "source": [
    "del_feat.Features.values"
   ]
  },
  {
   "cell_type": "code",
   "execution_count": 144,
   "metadata": {},
   "outputs": [],
   "source": [
    "X_train = X_train.drop(del_feat.Features, axis=1)\n",
    "X_test = X_test.drop(del_feat.Features, axis=1)"
   ]
  },
  {
   "cell_type": "code",
   "execution_count": 145,
   "metadata": {},
   "outputs": [],
   "source": [
    "model2 = xgb.XGBClassifier(n_jobs=-1, max_depth=2)"
   ]
  },
  {
   "cell_type": "code",
   "execution_count": 146,
   "metadata": {},
   "outputs": [
    {
     "name": "stdout",
     "output_type": "stream",
     "text": [
      "[0]\tvalidation_0-error:0.015702\tvalidation_1-error:0.142006\n",
      "[1]\tvalidation_0-error:0.01206\tvalidation_1-error:0.255776\n",
      "[2]\tvalidation_0-error:0.015714\tvalidation_1-error:0.261076\n",
      "[3]\tvalidation_0-error:0.01206\tvalidation_1-error:0.255776\n",
      "[4]\tvalidation_0-error:0.014731\tvalidation_1-error:0.140413\n",
      "[5]\tvalidation_0-error:0.014686\tvalidation_1-error:0.140294\n",
      "[6]\tvalidation_0-error:0.017107\tvalidation_1-error:0.143907\n",
      "[7]\tvalidation_0-error:0.017021\tvalidation_1-error:0.143883\n",
      "[8]\tvalidation_0-error:0.015278\tvalidation_1-error:0.141483\n",
      "[9]\tvalidation_0-error:0.017711\tvalidation_1-error:0.14519\n",
      "[10]\tvalidation_0-error:0.017362\tvalidation_1-error:0.144905\n",
      "[11]\tvalidation_0-error:0.019183\tvalidation_1-error:0.147353\n",
      "[12]\tvalidation_0-error:0.015344\tvalidation_1-error:0.141602\n",
      "[13]\tvalidation_0-error:0.015299\tvalidation_1-error:0.141554\n",
      "[14]\tvalidation_0-error:0.017136\tvalidation_1-error:0.144406\n",
      "[15]\tvalidation_0-error:0.015138\tvalidation_1-error:0.141198\n",
      "[16]\tvalidation_0-error:0.01504\tvalidation_1-error:0.141007\n",
      "[17]\tvalidation_0-error:0.014978\tvalidation_1-error:0.140912\n",
      "[18]\tvalidation_0-error:0.014982\tvalidation_1-error:0.140817\n",
      "[19]\tvalidation_0-error:0.015011\tvalidation_1-error:0.259745\n",
      "[20]\tvalidation_0-error:0.015101\tvalidation_1-error:0.14096\n",
      "[21]\tvalidation_0-error:0.014912\tvalidation_1-error:0.259602\n",
      "[22]\tvalidation_0-error:0.014838\tvalidation_1-error:0.259626\n",
      "[23]\tvalidation_0-error:0.014107\tvalidation_1-error:0.258367\n",
      "[24]\tvalidation_0-error:0.014879\tvalidation_1-error:0.259555\n",
      "[25]\tvalidation_0-error:0.015578\tvalidation_1-error:0.260791\n",
      "[26]\tvalidation_0-error:0.014834\tvalidation_1-error:0.259602\n",
      "[27]\tvalidation_0-error:0.013959\tvalidation_1-error:0.258153\n",
      "[28]\tvalidation_0-error:0.014464\tvalidation_1-error:0.258913\n",
      "[29]\tvalidation_0-error:0.014382\tvalidation_1-error:0.258913\n",
      "[30]\tvalidation_0-error:0.014444\tvalidation_1-error:0.258913\n",
      "[31]\tvalidation_0-error:0.014592\tvalidation_1-error:0.259412\n",
      "[32]\tvalidation_0-error:0.014448\tvalidation_1-error:0.25927\n",
      "[33]\tvalidation_0-error:0.0143\tvalidation_1-error:0.259198\n",
      "[34]\tvalidation_0-error:0.013959\tvalidation_1-error:0.258699\n",
      "[35]\tvalidation_0-error:0.014135\tvalidation_1-error:0.259008\n",
      "[36]\tvalidation_0-error:0.014316\tvalidation_1-error:0.259389\n",
      "[37]\tvalidation_0-error:0.014316\tvalidation_1-error:0.259246\n",
      "[38]\tvalidation_0-error:0.013671\tvalidation_1-error:0.258295\n",
      "[39]\tvalidation_0-error:0.013737\tvalidation_1-error:0.258533\n",
      "[40]\tvalidation_0-error:0.013737\tvalidation_1-error:0.258676\n",
      "[41]\tvalidation_0-error:0.013733\tvalidation_1-error:0.258652\n",
      "[42]\tvalidation_0-error:0.013161\tvalidation_1-error:0.257725\n",
      "[43]\tvalidation_0-error:0.013235\tvalidation_1-error:0.257891\n",
      "[44]\tvalidation_0-error:0.013453\tvalidation_1-error:0.258081\n",
      "[45]\tvalidation_0-error:0.013223\tvalidation_1-error:0.257749\n",
      "[46]\tvalidation_0-error:0.013063\tvalidation_1-error:0.257606\n",
      "[47]\tvalidation_0-error:0.012796\tvalidation_1-error:0.257297\n",
      "[48]\tvalidation_0-error:0.012878\tvalidation_1-error:0.25725\n",
      "[49]\tvalidation_0-error:0.01266\tvalidation_1-error:0.256869\n",
      "[50]\tvalidation_0-error:0.012557\tvalidation_1-error:0.256679\n",
      "[51]\tvalidation_0-error:0.012487\tvalidation_1-error:0.256679\n",
      "[52]\tvalidation_0-error:0.012228\tvalidation_1-error:0.256465\n",
      "[53]\tvalidation_0-error:0.012183\tvalidation_1-error:0.256441\n",
      "[54]\tvalidation_0-error:0.012142\tvalidation_1-error:0.25637\n",
      "[55]\tvalidation_0-error:0.012002\tvalidation_1-error:0.255919\n",
      "[56]\tvalidation_0-error:0.011846\tvalidation_1-error:0.255776\n",
      "[57]\tvalidation_0-error:0.011719\tvalidation_1-error:0.255419\n",
      "[58]\tvalidation_0-error:0.011554\tvalidation_1-error:0.255301\n",
      "[59]\tvalidation_0-error:0.011382\tvalidation_1-error:0.255063\n",
      "[60]\tvalidation_0-error:0.011308\tvalidation_1-error:0.254992\n",
      "[61]\tvalidation_0-error:0.011131\tvalidation_1-error:0.254778\n",
      "[62]\tvalidation_0-error:0.011049\tvalidation_1-error:0.254588\n",
      "[63]\tvalidation_0-error:0.011036\tvalidation_1-error:0.254635\n",
      "[64]\tvalidation_0-error:0.010773\tvalidation_1-error:0.253851\n",
      "[65]\tvalidation_0-error:0.010695\tvalidation_1-error:0.253685\n",
      "[66]\tvalidation_0-error:0.01058\tvalidation_1-error:0.253494\n",
      "[67]\tvalidation_0-error:0.010465\tvalidation_1-error:0.253067\n",
      "[68]\tvalidation_0-error:0.010387\tvalidation_1-error:0.253019\n",
      "[69]\tvalidation_0-error:0.010259\tvalidation_1-error:0.2529\n",
      "[70]\tvalidation_0-error:0.010054\tvalidation_1-error:0.252591\n",
      "[71]\tvalidation_0-error:0.009857\tvalidation_1-error:0.252591\n",
      "[72]\tvalidation_0-error:0.009787\tvalidation_1-error:0.252306\n",
      "[73]\tvalidation_0-error:0.009647\tvalidation_1-error:0.252163\n",
      "[74]\tvalidation_0-error:0.009577\tvalidation_1-error:0.251926\n",
      "[75]\tvalidation_0-error:0.009511\tvalidation_1-error:0.251712\n",
      "[76]\tvalidation_0-error:0.009446\tvalidation_1-error:0.251688\n",
      "[77]\tvalidation_0-error:0.009417\tvalidation_1-error:0.251641\n",
      "[78]\tvalidation_0-error:0.00938\tvalidation_1-error:0.251498\n",
      "[79]\tvalidation_0-error:0.009343\tvalidation_1-error:0.251427\n",
      "[80]\tvalidation_0-error:0.009244\tvalidation_1-error:0.251308\n",
      "[81]\tvalidation_0-error:0.009109\tvalidation_1-error:0.251142\n",
      "[82]\tvalidation_0-error:0.009026\tvalidation_1-error:0.250999\n",
      "[83]\tvalidation_0-error:0.008952\tvalidation_1-error:0.250904\n",
      "[84]\tvalidation_0-error:0.008919\tvalidation_1-error:0.250809\n",
      "[85]\tvalidation_0-error:0.008854\tvalidation_1-error:0.250785\n",
      "[86]\tvalidation_0-error:0.008743\tvalidation_1-error:0.250595\n",
      "[87]\tvalidation_0-error:0.008636\tvalidation_1-error:0.2505\n",
      "[88]\tvalidation_0-error:0.008595\tvalidation_1-error:0.250405\n",
      "[89]\tvalidation_0-error:0.008443\tvalidation_1-error:0.250286\n",
      "[90]\tvalidation_0-error:0.008352\tvalidation_1-error:0.250143\n",
      "[91]\tvalidation_0-error:0.008262\tvalidation_1-error:0.250025\n",
      "[92]\tvalidation_0-error:0.008213\tvalidation_1-error:0.249977\n",
      "[93]\tvalidation_0-error:0.008085\tvalidation_1-error:0.249811\n",
      "[94]\tvalidation_0-error:0.007949\tvalidation_1-error:0.249644\n",
      "[95]\tvalidation_0-error:0.0079\tvalidation_1-error:0.249549\n",
      "[96]\tvalidation_0-error:0.007814\tvalidation_1-error:0.249454\n",
      "[97]\tvalidation_0-error:0.007732\tvalidation_1-error:0.249288\n",
      "[98]\tvalidation_0-error:0.00758\tvalidation_1-error:0.249074\n",
      "[99]\tvalidation_0-error:0.007538\tvalidation_1-error:0.249026\n"
     ]
    },
    {
     "data": {
      "text/plain": [
       "XGBClassifier(base_score=0.5, booster='gbtree', colsample_bylevel=1,\n",
       "       colsample_bynode=1, colsample_bytree=1, gamma=0, learning_rate=0.1,\n",
       "       max_delta_step=0, max_depth=2, min_child_weight=1, missing=None,\n",
       "       n_estimators=100, n_jobs=-1, nthread=None,\n",
       "       objective='binary:logistic', random_state=0, reg_alpha=0,\n",
       "       reg_lambda=1, scale_pos_weight=1, seed=None, silent=None,\n",
       "       subsample=1, verbosity=1)"
      ]
     },
     "execution_count": 146,
     "metadata": {},
     "output_type": "execute_result"
    }
   ],
   "source": [
    "model2.fit(X_train, y_train.churned,\n",
    "          sample_weight=y_train.weight,\n",
    "          eval_set=[(X_train, y_train.churned), (X_test, y_test.churned)],\n",
    "          sample_weight_eval_set=[y_train.weight, y_test.weight])"
   ]
  },
  {
   "cell_type": "code",
   "execution_count": 147,
   "metadata": {},
   "outputs": [
    {
     "data": {
      "text/plain": [
       "array([0.05674676, 0.02844653, 0.01481817, 0.02199366, 0.01494103,\n",
       "       0.04299866, 0.        , 0.00648449, 0.02386785, 0.04040132,\n",
       "       0.01593559, 0.00911931, 0.08434222, 0.03760633, 0.02346067,\n",
       "       0.01036213, 0.02231809, 0.03834479, 0.01912793, 0.03884446,\n",
       "       0.02304309, 0.06532095, 0.01425525, 0.01458012, 0.01796766,\n",
       "       0.02152568, 0.02637437, 0.02244852, 0.00823096, 0.        ,\n",
       "       0.        , 0.        , 0.02194499, 0.06392943, 0.00062302,\n",
       "       0.14959595], dtype=float32)"
      ]
     },
     "execution_count": 147,
     "metadata": {},
     "output_type": "execute_result"
    }
   ],
   "source": [
    "model2.feature_importances_"
   ]
  },
  {
   "cell_type": "code",
   "execution_count": 148,
   "metadata": {},
   "outputs": [
    {
     "data": {
      "text/plain": [
       "0.7696737044145874"
      ]
     },
     "execution_count": 148,
     "metadata": {},
     "output_type": "execute_result"
    }
   ],
   "source": [
    "y_pred = model2.predict(X_test)\n",
    "(y_pred == y_test.churned).sum() / y_test.churned.count()"
   ]
  },
  {
   "cell_type": "code",
   "execution_count": 149,
   "metadata": {},
   "outputs": [
    {
     "data": {
      "text/html": [
       "<div>\n",
       "<style scoped>\n",
       "    .dataframe tbody tr th:only-of-type {\n",
       "        vertical-align: middle;\n",
       "    }\n",
       "\n",
       "    .dataframe tbody tr th {\n",
       "        vertical-align: top;\n",
       "    }\n",
       "\n",
       "    .dataframe thead th {\n",
       "        text-align: right;\n",
       "    }\n",
       "</style>\n",
       "<table border=\"1\" class=\"dataframe\">\n",
       "  <thead>\n",
       "    <tr style=\"text-align: right;\">\n",
       "      <th></th>\n",
       "      <th>0</th>\n",
       "      <th>1</th>\n",
       "    </tr>\n",
       "  </thead>\n",
       "  <tbody>\n",
       "    <tr>\n",
       "      <th>0</th>\n",
       "      <td>1598</td>\n",
       "      <td>478</td>\n",
       "    </tr>\n",
       "    <tr>\n",
       "      <th>1</th>\n",
       "      <td>2</td>\n",
       "      <td>6</td>\n",
       "    </tr>\n",
       "  </tbody>\n",
       "</table>\n",
       "</div>"
      ],
      "text/plain": [
       "      0    1\n",
       "0  1598  478\n",
       "1     2    6"
      ]
     },
     "execution_count": 149,
     "metadata": {},
     "output_type": "execute_result"
    }
   ],
   "source": [
    "pd.DataFrame(confusion_matrix(y_test.churned, y_pred))"
   ]
  },
  {
   "cell_type": "code",
   "execution_count": 151,
   "metadata": {},
   "outputs": [],
   "source": [
    "xgb_clfs = [model, model2]"
   ]
  },
  {
   "cell_type": "code",
   "execution_count": 152,
   "metadata": {},
   "outputs": [],
   "source": [
    "model.save_model('xgb_classifier1.cfg')\n",
    "model2.save_model('xgb_classifier2.cfg')"
   ]
  },
  {
   "cell_type": "code",
   "execution_count": 153,
   "metadata": {},
   "outputs": [],
   "source": [
    "import pickle"
   ]
  },
  {
   "cell_type": "code",
   "execution_count": 154,
   "metadata": {},
   "outputs": [],
   "source": [
    "for indx, item in enumerate(xgb_clfs):\n",
    "    pickle.dump(item, open('xgb{}.pickle'.format(indx + 1), 'wb'))"
   ]
  },
  {
   "cell_type": "code",
   "execution_count": 155,
   "metadata": {},
   "outputs": [],
   "source": [
    "temp = pickle.load(open('xgb1.pickle', 'rb'))"
   ]
  },
  {
   "cell_type": "code",
   "execution_count": 156,
   "metadata": {},
   "outputs": [],
   "source": [
    "temp2 = pickle.load(open('xgb2.pickle', 'rb'))"
   ]
  },
  {
   "cell_type": "code",
   "execution_count": 157,
   "metadata": {},
   "outputs": [
    {
     "data": {
      "text/plain": [
       "array([0, 0, 0, ..., 0, 0, 0], dtype=int64)"
      ]
     },
     "execution_count": 157,
     "metadata": {},
     "output_type": "execute_result"
    }
   ],
   "source": [
    "temp2.predict(X_test)"
   ]
  },
  {
   "cell_type": "markdown",
   "metadata": {},
   "source": [
    "# RandomForest"
   ]
  },
  {
   "cell_type": "code",
   "execution_count": 900,
   "metadata": {},
   "outputs": [],
   "source": [
    "from sklearn.ensemble import RandomForestClassifier\n",
    "from sklearn.model_selection import GridSearchCV"
   ]
  },
  {
   "cell_type": "code",
   "execution_count": 901,
   "metadata": {},
   "outputs": [],
   "source": [
    "model_forest = RandomForestClassifier()"
   ]
  },
  {
   "cell_type": "code",
   "execution_count": 902,
   "metadata": {},
   "outputs": [],
   "source": [
    "params = {\n",
    "    'n_estimators': range(10, 151, 10),\n",
    "    'criterion': ['entropy'],\n",
    "    'max_depth': range(2, 5),\n",
    "    'class_weight': [{0:1, 1:1000}],\n",
    "}"
   ]
  },
  {
   "cell_type": "code",
   "execution_count": 903,
   "metadata": {},
   "outputs": [],
   "source": [
    "clf = GridSearchCV(model_forest, params, cv=5, n_jobs=-1)"
   ]
  },
  {
   "cell_type": "code",
   "execution_count": 904,
   "metadata": {},
   "outputs": [
    {
     "data": {
      "text/plain": [
       "GridSearchCV(cv=5, error_score='raise-deprecating',\n",
       "       estimator=RandomForestClassifier(bootstrap=True, class_weight=None, criterion='gini',\n",
       "            max_depth=None, max_features='auto', max_leaf_nodes=None,\n",
       "            min_impurity_decrease=0.0, min_impurity_split=None,\n",
       "            min_samples_leaf=1, min_samples_split=2,\n",
       "            min_weight_fraction_leaf=0.0, n_estimators='warn', n_jobs=None,\n",
       "            oob_score=False, random_state=None, verbose=0,\n",
       "            warm_start=False),\n",
       "       fit_params=None, iid='warn', n_jobs=-1,\n",
       "       param_grid={'n_estimators': range(10, 151, 10), 'criterion': ['entropy'], 'max_depth': range(2, 5), 'class_weight': [{0: 1, 1: 1000}]},\n",
       "       pre_dispatch='2*n_jobs', refit=True, return_train_score='warn',\n",
       "       scoring=None, verbose=0)"
      ]
     },
     "execution_count": 904,
     "metadata": {},
     "output_type": "execute_result"
    }
   ],
   "source": [
    "clf.fit(X_train, y_train.churned)"
   ]
  },
  {
   "cell_type": "code",
   "execution_count": 905,
   "metadata": {},
   "outputs": [],
   "source": [
    "random_forest_clf = clf.best_estimator_"
   ]
  },
  {
   "cell_type": "code",
   "execution_count": 906,
   "metadata": {},
   "outputs": [
    {
     "data": {
      "text/plain": [
       "{'class_weight': {0: 1, 1: 1000},\n",
       " 'criterion': 'entropy',\n",
       " 'max_depth': 4,\n",
       " 'n_estimators': 100}"
      ]
     },
     "execution_count": 906,
     "metadata": {},
     "output_type": "execute_result"
    }
   ],
   "source": [
    "clf.best_params_"
   ]
  },
  {
   "cell_type": "code",
   "execution_count": 907,
   "metadata": {},
   "outputs": [
    {
     "data": {
      "text/plain": [
       "0.8041521660866434"
      ]
     },
     "execution_count": 907,
     "metadata": {},
     "output_type": "execute_result"
    }
   ],
   "source": [
    "clf.best_score_"
   ]
  },
  {
   "cell_type": "code",
   "execution_count": 908,
   "metadata": {},
   "outputs": [
    {
     "data": {
      "text/plain": [
       "0.7763915547024952"
      ]
     },
     "execution_count": 908,
     "metadata": {},
     "output_type": "execute_result"
    }
   ],
   "source": [
    "y_pred = random_forest_clf.predict(X_test)\n",
    "(y_pred == y_test.churned).sum() / y_test.churned.count()"
   ]
  },
  {
   "cell_type": "code",
   "execution_count": 909,
   "metadata": {},
   "outputs": [
    {
     "data": {
      "text/html": [
       "<div>\n",
       "<style scoped>\n",
       "    .dataframe tbody tr th:only-of-type {\n",
       "        vertical-align: middle;\n",
       "    }\n",
       "\n",
       "    .dataframe tbody tr th {\n",
       "        vertical-align: top;\n",
       "    }\n",
       "\n",
       "    .dataframe thead th {\n",
       "        text-align: right;\n",
       "    }\n",
       "</style>\n",
       "<table border=\"1\" class=\"dataframe\">\n",
       "  <thead>\n",
       "    <tr style=\"text-align: right;\">\n",
       "      <th></th>\n",
       "      <th>0</th>\n",
       "      <th>1</th>\n",
       "    </tr>\n",
       "  </thead>\n",
       "  <tbody>\n",
       "    <tr>\n",
       "      <th>0</th>\n",
       "      <td>1613</td>\n",
       "      <td>463</td>\n",
       "    </tr>\n",
       "    <tr>\n",
       "      <th>1</th>\n",
       "      <td>3</td>\n",
       "      <td>5</td>\n",
       "    </tr>\n",
       "  </tbody>\n",
       "</table>\n",
       "</div>"
      ],
      "text/plain": [
       "      0    1\n",
       "0  1613  463\n",
       "1     3    5"
      ]
     },
     "execution_count": 909,
     "metadata": {},
     "output_type": "execute_result"
    }
   ],
   "source": [
    "pd.DataFrame(confusion_matrix(y_test.churned, y_pred))"
   ]
  },
  {
   "cell_type": "markdown",
   "metadata": {},
   "source": [
    "# LogisticRegression"
   ]
  },
  {
   "cell_type": "code",
   "execution_count": 910,
   "metadata": {},
   "outputs": [],
   "source": [
    "from sklearn.linear_model import LogisticRegression"
   ]
  },
  {
   "cell_type": "code",
   "execution_count": 911,
   "metadata": {},
   "outputs": [],
   "source": [
    "clf = LogisticRegression()"
   ]
  },
  {
   "cell_type": "code",
   "execution_count": 912,
   "metadata": {},
   "outputs": [],
   "source": [
    "params = {\n",
    "    'class_weight': [{0:1, 1:250}]\n",
    "}"
   ]
  },
  {
   "cell_type": "code",
   "execution_count": 913,
   "metadata": {},
   "outputs": [],
   "source": [
    "grid_clf = GridSearchCV(clf, params, cv=5, n_jobs=-1)"
   ]
  },
  {
   "cell_type": "code",
   "execution_count": 914,
   "metadata": {},
   "outputs": [
    {
     "name": "stderr",
     "output_type": "stream",
     "text": [
      "C:\\Users\\PC\\Anaconda3\\lib\\site-packages\\sklearn\\linear_model\\logistic.py:433: FutureWarning: Default solver will be changed to 'lbfgs' in 0.22. Specify a solver to silence this warning.\n",
      "  FutureWarning)\n",
      "C:\\Users\\PC\\Anaconda3\\lib\\site-packages\\sklearn\\svm\\base.py:931: ConvergenceWarning: Liblinear failed to converge, increase the number of iterations.\n",
      "  \"the number of iterations.\", ConvergenceWarning)\n"
     ]
    },
    {
     "data": {
      "text/plain": [
       "GridSearchCV(cv=5, error_score='raise-deprecating',\n",
       "       estimator=LogisticRegression(C=1.0, class_weight=None, dual=False, fit_intercept=True,\n",
       "          intercept_scaling=1, max_iter=100, multi_class='warn',\n",
       "          n_jobs=None, penalty='l2', random_state=None, solver='warn',\n",
       "          tol=0.0001, verbose=0, warm_start=False),\n",
       "       fit_params=None, iid='warn', n_jobs=-1,\n",
       "       param_grid={'class_weight': [{0: 1, 1: 250}]},\n",
       "       pre_dispatch='2*n_jobs', refit=True, return_train_score='warn',\n",
       "       scoring=None, verbose=0)"
      ]
     },
     "execution_count": 914,
     "metadata": {},
     "output_type": "execute_result"
    }
   ],
   "source": [
    "grid_clf.fit(X_train, y_train.churned)"
   ]
  },
  {
   "cell_type": "code",
   "execution_count": 915,
   "metadata": {},
   "outputs": [],
   "source": [
    "logistic_clf = grid_clf.best_estimator_"
   ]
  },
  {
   "cell_type": "code",
   "execution_count": 916,
   "metadata": {},
   "outputs": [
    {
     "data": {
      "text/plain": [
       "0.6871401151631478"
      ]
     },
     "execution_count": 916,
     "metadata": {},
     "output_type": "execute_result"
    }
   ],
   "source": [
    "y_pred = grid_clf.predict(X_test)\n",
    "(y_pred == y_test.churned).sum() / y_test.churned.count()"
   ]
  },
  {
   "cell_type": "code",
   "execution_count": 917,
   "metadata": {},
   "outputs": [
    {
     "data": {
      "text/html": [
       "<div>\n",
       "<style scoped>\n",
       "    .dataframe tbody tr th:only-of-type {\n",
       "        vertical-align: middle;\n",
       "    }\n",
       "\n",
       "    .dataframe tbody tr th {\n",
       "        vertical-align: top;\n",
       "    }\n",
       "\n",
       "    .dataframe thead th {\n",
       "        text-align: right;\n",
       "    }\n",
       "</style>\n",
       "<table border=\"1\" class=\"dataframe\">\n",
       "  <thead>\n",
       "    <tr style=\"text-align: right;\">\n",
       "      <th></th>\n",
       "      <th>0</th>\n",
       "      <th>1</th>\n",
       "    </tr>\n",
       "  </thead>\n",
       "  <tbody>\n",
       "    <tr>\n",
       "      <th>0</th>\n",
       "      <td>1427</td>\n",
       "      <td>649</td>\n",
       "    </tr>\n",
       "    <tr>\n",
       "      <th>1</th>\n",
       "      <td>3</td>\n",
       "      <td>5</td>\n",
       "    </tr>\n",
       "  </tbody>\n",
       "</table>\n",
       "</div>"
      ],
      "text/plain": [
       "      0    1\n",
       "0  1427  649\n",
       "1     3    5"
      ]
     },
     "execution_count": 917,
     "metadata": {},
     "output_type": "execute_result"
    }
   ],
   "source": [
    "pd.DataFrame(confusion_matrix(y_test.churned, y_pred))"
   ]
  },
  {
   "cell_type": "markdown",
   "metadata": {},
   "source": [
    "# Neurol Network"
   ]
  },
  {
   "cell_type": "code",
   "execution_count": 918,
   "metadata": {},
   "outputs": [],
   "source": [
    "from keras.models import Sequential\n",
    "from keras.layers import Dense, Activation"
   ]
  },
  {
   "cell_type": "code",
   "execution_count": 756,
   "metadata": {},
   "outputs": [
    {
     "name": "stderr",
     "output_type": "stream",
     "text": [
      "C:\\Users\\PC\\Anaconda3\\lib\\site-packages\\ipykernel_launcher.py:1: SettingWithCopyWarning: \n",
      "A value is trying to be set on a copy of a slice from a DataFrame.\n",
      "Try using .loc[row_indexer,col_indexer] = value instead\n",
      "\n",
      "See the caveats in the documentation: http://pandas.pydata.org/pandas-docs/stable/indexing.html#indexing-view-versus-copy\n",
      "  \"\"\"Entry point for launching an IPython kernel.\n",
      "C:\\Users\\PC\\Anaconda3\\lib\\site-packages\\ipykernel_launcher.py:2: SettingWithCopyWarning: \n",
      "A value is trying to be set on a copy of a slice from a DataFrame.\n",
      "Try using .loc[row_indexer,col_indexer] = value instead\n",
      "\n",
      "See the caveats in the documentation: http://pandas.pydata.org/pandas-docs/stable/indexing.html#indexing-view-versus-copy\n",
      "  \n"
     ]
    }
   ],
   "source": [
    "y_train['weight'] = y_train.churned.apply(lambda x: 100 if x else 1)\n",
    "y_test['weight'] = y_test.churned.apply(lambda x: 100 if x else 1)"
   ]
  },
  {
   "cell_type": "code",
   "execution_count": 919,
   "metadata": {},
   "outputs": [
    {
     "data": {
      "text/plain": [
       "array([0, 1], dtype=int64)"
      ]
     },
     "execution_count": 919,
     "metadata": {},
     "output_type": "execute_result"
    }
   ],
   "source": [
    "y_test.churned.unique()"
   ]
  },
  {
   "cell_type": "code",
   "execution_count": 920,
   "metadata": {},
   "outputs": [
    {
     "data": {
      "text/plain": [
       "36"
      ]
     },
     "execution_count": 920,
     "metadata": {},
     "output_type": "execute_result"
    }
   ],
   "source": [
    "num_featchs = X_train.shape[1]\n",
    "num_featchs"
   ]
  },
  {
   "cell_type": "code",
   "execution_count": 921,
   "metadata": {},
   "outputs": [],
   "source": [
    "model = Sequential()\n",
    "model.add(Dense(10, activation='relu', input_dim=num_featchs))\n",
    "model.add(Dense(5, activation='relu'))\n",
    "model.add(Dense(1, activation='sigmoid'))"
   ]
  },
  {
   "cell_type": "code",
   "execution_count": 922,
   "metadata": {},
   "outputs": [],
   "source": [
    "model.compile(loss='binary_crossentropy',\n",
    "              optimizer='adam',\n",
    "              metrics=['binary_accuracy'])"
   ]
  },
  {
   "cell_type": "code",
   "execution_count": 923,
   "metadata": {},
   "outputs": [
    {
     "name": "stdout",
     "output_type": "stream",
     "text": [
      "Train on 8333 samples, validate on 2084 samples\n",
      "Epoch 1/10\n",
      "8333/8333 [==============================] - 5s 552us/step - loss: 32.3470 - binary_accuracy: 0.8698 - val_loss: 16.3048 - val_binary_accuracy: 0.8373\n",
      "Epoch 2/10\n",
      "8333/8333 [==============================] - 2s 190us/step - loss: 25.8191 - binary_accuracy: 0.8147 - val_loss: 16.1417 - val_binary_accuracy: 0.7644\n",
      "Epoch 3/10\n",
      "8333/8333 [==============================] - 1s 179us/step - loss: 24.1395 - binary_accuracy: 0.7211 - val_loss: 16.0723 - val_binary_accuracy: 0.6939\n",
      "Epoch 4/10\n",
      "8333/8333 [==============================] - 2s 187us/step - loss: 24.0661 - binary_accuracy: 0.6939 - val_loss: 16.0480 - val_binary_accuracy: 0.6761\n",
      "Epoch 5/10\n",
      "8333/8333 [==============================] - 1s 179us/step - loss: 24.0157 - binary_accuracy: 0.6888 - val_loss: 16.0241 - val_binary_accuracy: 0.6727\n",
      "Epoch 6/10\n",
      "8333/8333 [==============================] - 2s 183us/step - loss: 23.9788 - binary_accuracy: 0.6876 - val_loss: 15.9995 - val_binary_accuracy: 0.6747\n",
      "Epoch 7/10\n",
      "8333/8333 [==============================] - 2s 191us/step - loss: 23.9442 - binary_accuracy: 0.6891 - val_loss: 15.9769 - val_binary_accuracy: 0.6775\n",
      "Epoch 8/10\n",
      "8333/8333 [==============================] - 2s 207us/step - loss: 23.6145 - binary_accuracy: 0.6875 - val_loss: 15.9550 - val_binary_accuracy: 0.6420\n",
      "Epoch 9/10\n",
      "8333/8333 [==============================] - 2s 182us/step - loss: 13.6344 - binary_accuracy: 0.4209 - val_loss: 3.5310 - val_binary_accuracy: 0.2639\n",
      "Epoch 10/10\n",
      "8333/8333 [==============================] - 1s 179us/step - loss: 17.1280 - binary_accuracy: 0.5224 - val_loss: 30.9369 - val_binary_accuracy: 0.9957\n"
     ]
    },
    {
     "data": {
      "text/plain": [
       "<keras.callbacks.History at 0x1ce8b5ab518>"
      ]
     },
     "execution_count": 923,
     "metadata": {},
     "output_type": "execute_result"
    }
   ],
   "source": [
    "model.fit(X_train, y_train.churned.values, epochs=10,\n",
    "          validation_data=(X_test, y_test.churned.values, y_test.weight.values),\n",
    "          batch_size=32,\n",
    "          sample_weight=y_train.weight.values)"
   ]
  },
  {
   "cell_type": "code",
   "execution_count": 924,
   "metadata": {},
   "outputs": [],
   "source": [
    "y_pred = model.predict(X_test)"
   ]
  },
  {
   "cell_type": "code",
   "execution_count": 930,
   "metadata": {},
   "outputs": [],
   "source": [
    "y_pred[y_pred > 0] = 1"
   ]
  },
  {
   "cell_type": "code",
   "execution_count": 931,
   "metadata": {},
   "outputs": [],
   "source": [
    "y_pred = np.array(y_pred.reshape(y_pred.shape[0]), dtype=np.int32)"
   ]
  },
  {
   "cell_type": "code",
   "execution_count": 932,
   "metadata": {},
   "outputs": [
    {
     "data": {
      "text/plain": [
       "0.9870441458733206"
      ]
     },
     "execution_count": 932,
     "metadata": {},
     "output_type": "execute_result"
    }
   ],
   "source": [
    "(y_pred == y_test.churned).sum() / y_test.churned.count()"
   ]
  },
  {
   "cell_type": "code",
   "execution_count": 933,
   "metadata": {},
   "outputs": [
    {
     "data": {
      "text/html": [
       "<div>\n",
       "<style scoped>\n",
       "    .dataframe tbody tr th:only-of-type {\n",
       "        vertical-align: middle;\n",
       "    }\n",
       "\n",
       "    .dataframe tbody tr th {\n",
       "        vertical-align: top;\n",
       "    }\n",
       "\n",
       "    .dataframe thead th {\n",
       "        text-align: right;\n",
       "    }\n",
       "</style>\n",
       "<table border=\"1\" class=\"dataframe\">\n",
       "  <thead>\n",
       "    <tr style=\"text-align: right;\">\n",
       "      <th></th>\n",
       "      <th>0</th>\n",
       "      <th>1</th>\n",
       "    </tr>\n",
       "  </thead>\n",
       "  <tbody>\n",
       "    <tr>\n",
       "      <th>0</th>\n",
       "      <td>2057</td>\n",
       "      <td>19</td>\n",
       "    </tr>\n",
       "    <tr>\n",
       "      <th>1</th>\n",
       "      <td>8</td>\n",
       "      <td>0</td>\n",
       "    </tr>\n",
       "  </tbody>\n",
       "</table>\n",
       "</div>"
      ],
      "text/plain": [
       "      0   1\n",
       "0  2057  19\n",
       "1     8   0"
      ]
     },
     "execution_count": 933,
     "metadata": {},
     "output_type": "execute_result"
    }
   ],
   "source": [
    "pd.DataFrame(confusion_matrix(y_test.churned.values, y_pred))"
   ]
  },
  {
   "cell_type": "markdown",
   "metadata": {},
   "source": [
    "# Conclusion"
   ]
  },
  {
   "cell_type": "markdown",
   "metadata": {},
   "source": [
    "## The best model is XGBoost Classifier"
   ]
  },
  {
   "cell_type": "code",
   "execution_count": 47,
   "metadata": {},
   "outputs": [
    {
     "data": {
      "text/plain": [
       "[XGBClassifier(base_score=0.5, booster='gbtree', colsample_bylevel=1,\n",
       "        colsample_bynode=1, colsample_bytree=1, gamma=0, learning_rate=0.1,\n",
       "        max_delta_step=0, max_depth=3, min_child_weight=1, missing=None,\n",
       "        n_estimators=100, n_jobs=-1, nthread=None,\n",
       "        objective='binary:logistic', random_state=0, reg_alpha=0,\n",
       "        reg_lambda=1, scale_pos_weight=1, seed=None, silent=None,\n",
       "        subsample=1, verbosity=1),\n",
       " XGBClassifier(base_score=0.5, booster='gbtree', colsample_bylevel=1,\n",
       "        colsample_bynode=1, colsample_bytree=1, gamma=0, learning_rate=0.1,\n",
       "        max_delta_step=0, max_depth=2, min_child_weight=1, missing=None,\n",
       "        n_estimators=100, n_jobs=-1, nthread=None,\n",
       "        objective='binary:logistic', random_state=0, reg_alpha=0,\n",
       "        reg_lambda=1, scale_pos_weight=1, seed=None, silent=None,\n",
       "        subsample=1, verbosity=1)]"
      ]
     },
     "execution_count": 47,
     "metadata": {},
     "output_type": "execute_result"
    }
   ],
   "source": [
    "xgb_clfs"
   ]
  },
  {
   "cell_type": "code",
   "execution_count": null,
   "metadata": {},
   "outputs": [],
   "source": []
  }
 ],
 "metadata": {
  "kernelspec": {
   "display_name": "Python 3",
   "language": "python",
   "name": "python3"
  },
  "language_info": {
   "codemirror_mode": {
    "name": "ipython",
    "version": 3
   },
   "file_extension": ".py",
   "mimetype": "text/x-python",
   "name": "python",
   "nbconvert_exporter": "python",
   "pygments_lexer": "ipython3",
   "version": "3.7.3"
  }
 },
 "nbformat": 4,
 "nbformat_minor": 2
}
